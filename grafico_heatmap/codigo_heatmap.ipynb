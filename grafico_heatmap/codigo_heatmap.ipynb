valores_excluir = ["NO APLICA", "NO DISPONIBLE", ""]
conteo = (
    snib_lazy_df
    .select(["aniocolecta", "coleccion"])
    .filter(
        pl.col("coleccion").is_not_null() &
        pl.col("aniocolecta").is_not_null()
    )
    .filter(~pl.col("aniocolecta").str.contains("null"))
    .filter(~pl.col("coleccion").is_in(valores_excluir))  # <-- filtro para excluir esos valores
    .group_by(["aniocolecta", "coleccion"])
    .agg(pl.len().alias("conteo"))
)
# 2. Obtener las 9 colecciones principales
top9_colecciones = (
    conteo
    .group_by("coleccion")
    .agg(pl.col("conteo").sum().alias("total"))
    .sort("total", descending=True)
    .limit(9)
    .select("coleccion")
    .collect()
    .to_series()
    .to_list()
)

print(top9_colecciones)
# 3. Crear columna agrupada y agrupar
conteo_final = (
    conteo
    .with_columns(
        pl.when(pl.col("coleccion").is_in(top9_colecciones))
          .then(pl.col("coleccion"))
          .otherwise(pl.lit("otras")) #no acepta esta linea
          .alias("coleccion_agrupada")
    )
    .group_by(["aniocolecta", "coleccion_agrupada"])
    .agg(pl.col("conteo").sum().alias("conteo"))
    .sort(["aniocolecta", "coleccion_agrupada"])
    
)
print(conteo_final.schema)
conteo_final_df = conteo_final.collect()
conteo_final_df = conteo_final_df.with_columns(pl.col("aniocolecta").cast(pl.Int32))
conteo_final_df.tail()
# 5. Pivotar en modo eager (DataFrame)
tabla_wide = conteo_final_df.pivot(
    values="conteo",
    index="aniocolecta",
    on="coleccion_agrupada",
    aggregate_function="first"
).fill_null(0)
print(tabla_wide)

df_wide = tabla_wide
x = df_wide["aniocolecta"].to_list()
fig = go.Figure()
for col in df_wide.columns:
    if col != "aniocolecta":
        fig.add_trace(go.Scatter(
            x=x,
            y=df_wide[col].to_list(),
            stackgroup='one',
            name=col
        ))
fig.update_layout(
    title="Distribución anual de las 9 colecciones principales y otras",
    xaxis_title="Año de colecta",
    yaxis_title="Número de ejemplares",
    legend_title="Colección"
)
fig.update_xaxes(rangeslider_visible=True)
fig.show()